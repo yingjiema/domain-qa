{
 "cells": [
  {
   "cell_type": "code",
   "execution_count": 1,
   "id": "ae2cc8fb-b7d3-40e0-a940-ec83af011085",
   "metadata": {},
   "outputs": [
    {
     "name": "stderr",
     "output_type": "stream",
     "text": [
      "/home/ec2-user/anaconda3/envs/dev/lib/python3.8/site-packages/tqdm/auto.py:22: TqdmWarning: IProgress not found. Please update jupyter and ipywidgets. See https://ipywidgets.readthedocs.io/en/stable/user_install.html\n",
      "  from .autonotebook import tqdm as notebook_tqdm\n"
     ]
    }
   ],
   "source": [
    "from haystack.document_stores import ElasticsearchDocumentStore\n",
    "from haystack.nodes import EmbeddingRetriever, TfidfRetriever\n",
    "from haystack.nodes import FARMReader\n",
    "from haystack.pipelines import ExtractiveQAPipeline"
   ]
  },
  {
   "cell_type": "code",
   "execution_count": 2,
   "id": "f29ed63c-5405-4908-9f1b-65c0320c6d85",
   "metadata": {},
   "outputs": [],
   "source": [
    "host = '127.0.0.1'"
   ]
  },
  {
   "cell_type": "code",
   "execution_count": 3,
   "id": "fee0e1a0-3d93-4984-aff5-ef9336ca30b1",
   "metadata": {},
   "outputs": [],
   "source": [
    "document_store = ElasticsearchDocumentStore(\n",
    "    host=host,\n",
    "    username='',\n",
    "    password='',\n",
    "    index='bioasq',\n",
    "    similarity=\"cosine\",\n",
    "    embedding_dim=768\n",
    ")"
   ]
  },
  {
   "cell_type": "code",
   "execution_count": 4,
   "id": "95f4eec7-20d5-4b8c-a5db-dbc13b2b6b25",
   "metadata": {},
   "outputs": [],
   "source": [
    "retriever = EmbeddingRetriever(\n",
    "    document_store=document_store,\n",
    "    embedding_model=\"dmis-lab/biobert-base-cased-v1.2\",\n",
    ")"
   ]
  },
  {
   "cell_type": "code",
   "execution_count": 5,
   "id": "440b9b7c-9f6e-44d9-9dd0-6eea83d71116",
   "metadata": {
    "tags": []
   },
   "outputs": [],
   "source": [
    "# document_store.update_embeddings(retriever)"
   ]
  },
  {
   "cell_type": "code",
   "execution_count": 6,
   "id": "7d501152-27aa-49e8-a75c-ad53a93c8dbe",
   "metadata": {},
   "outputs": [],
   "source": [
    "reader = FARMReader(model_name_or_path=\"deepset/minilm-uncased-squad2\", use_gpu=True)"
   ]
  },
  {
   "cell_type": "code",
   "execution_count": 7,
   "id": "b37a856a-ffff-4401-bdb5-49463e9b42f2",
   "metadata": {},
   "outputs": [],
   "source": [
    "pipe = ExtractiveQAPipeline(reader, retriever)"
   ]
  },
  {
   "cell_type": "code",
   "execution_count": 8,
   "id": "7ac704b0-7b10-4c04-8044-503259fb8131",
   "metadata": {},
   "outputs": [
    {
     "name": "stderr",
     "output_type": "stream",
     "text": [
      "Inferencing Samples: 100%|██████████████████████████████████████████████████████████████████████████████████████████████████████████████████████████████████| 1/1 [00:00<00:00,  1.74 Batches/s]\n",
      "Inferencing Samples: 100%|██████████████████████████████████████████████████████████████████████████████████████████████████████████████████████████████████| 1/1 [00:00<00:00,  1.80 Batches/s]\n",
      "Inferencing Samples: 100%|██████████████████████████████████████████████████████████████████████████████████████████████████████████████████████████████████| 1/1 [00:00<00:00,  7.17 Batches/s]\n",
      "Inferencing Samples: 100%|██████████████████████████████████████████████████████████████████████████████████████████████████████████████████████████████████| 1/1 [00:00<00:00, 12.63 Batches/s]\n",
      "Inferencing Samples: 100%|██████████████████████████████████████████████████████████████████████████████████████████████████████████████████████████████████| 1/1 [00:00<00:00, 12.79 Batches/s]\n",
      "Inferencing Samples: 100%|██████████████████████████████████████████████████████████████████████████████████████████████████████████████████████████████████| 1/1 [00:00<00:00,  7.11 Batches/s]\n",
      "Inferencing Samples: 100%|██████████████████████████████████████████████████████████████████████████████████████████████████████████████████████████████████| 1/1 [00:00<00:00, 12.67 Batches/s]\n",
      "Inferencing Samples: 100%|██████████████████████████████████████████████████████████████████████████████████████████████████████████████████████████████████| 1/1 [00:00<00:00, 12.80 Batches/s]\n",
      "Inferencing Samples: 100%|██████████████████████████████████████████████████████████████████████████████████████████████████████████████████████████████████| 1/1 [00:00<00:00,  4.85 Batches/s]\n",
      "Inferencing Samples: 100%|██████████████████████████████████████████████████████████████████████████████████████████████████████████████████████████████████| 1/1 [00:00<00:00, 11.64 Batches/s]\n",
      "Inferencing Samples: 100%|██████████████████████████████████████████████████████████████████████████████████████████████████████████████████████████████████| 1/1 [00:00<00:00, 12.42 Batches/s]\n",
      "Inferencing Samples: 100%|██████████████████████████████████████████████████████████████████████████████████████████████████████████████████████████████████| 1/1 [00:00<00:00,  7.10 Batches/s]\n",
      "Inferencing Samples: 100%|██████████████████████████████████████████████████████████████████████████████████████████████████████████████████████████████████| 1/1 [00:00<00:00,  4.93 Batches/s]\n",
      "Inferencing Samples: 100%|██████████████████████████████████████████████████████████████████████████████████████████████████████████████████████████████████| 1/1 [00:00<00:00, 12.55 Batches/s]\n",
      "Inferencing Samples: 100%|██████████████████████████████████████████████████████████████████████████████████████████████████████████████████████████████████| 1/1 [00:00<00:00,  6.86 Batches/s]\n",
      "Inferencing Samples: 100%|██████████████████████████████████████████████████████████████████████████████████████████████████████████████████████████████████| 1/1 [00:00<00:00,  7.16 Batches/s]\n",
      "Inferencing Samples: 100%|██████████████████████████████████████████████████████████████████████████████████████████████████████████████████████████████████| 1/1 [00:00<00:00,  7.12 Batches/s]\n",
      "Inferencing Samples: 100%|██████████████████████████████████████████████████████████████████████████████████████████████████████████████████████████████████| 1/1 [00:00<00:00, 12.60 Batches/s]\n",
      "Inferencing Samples: 100%|██████████████████████████████████████████████████████████████████████████████████████████████████████████████████████████████████| 1/1 [00:00<00:00, 12.68 Batches/s]\n",
      "Inferencing Samples: 100%|██████████████████████████████████████████████████████████████████████████████████████████████████████████████████████████████████| 1/1 [00:00<00:00,  6.90 Batches/s]\n",
      "Inferencing Samples: 100%|██████████████████████████████████████████████████████████████████████████████████████████████████████████████████████████████████| 1/1 [00:00<00:00,  7.12 Batches/s]\n"
     ]
    }
   ],
   "source": [
    "prediction = pipe.run(\n",
    "    query='What type of enzyme is peroxiredoxin 2 (PRDX2)?',\n",
    "    params={\"Retriever\": {\"top_k\": 20}, \"Reader\": {\"top_k\": 5}}\n",
    ")"
   ]
  },
  {
   "cell_type": "code",
   "execution_count": 9,
   "id": "be0cf54c-7e20-4b34-89d2-199ad0f5efcc",
   "metadata": {},
   "outputs": [],
   "source": [
    "from haystack.utils import print_answers"
   ]
  },
  {
   "cell_type": "code",
   "execution_count": 10,
   "id": "ed2476d7-e6ca-46af-99fa-6f013589951d",
   "metadata": {},
   "outputs": [
    {
     "name": "stdout",
     "output_type": "stream",
     "text": [
      "\n",
      "Query: What type of enzyme is peroxiredoxin 2 (PRDX2)?\n",
      "Answers:\n",
      "[   {   'answer': 'thiol-dependent peroxidase',\n",
      "        'context': 'Peroxiredoxin 2 (Prx2), a thiol-dependent peroxidase, is '\n",
      "                   'the third most abundant protein in the erythrocyte, and '\n",
      "                   'its absence in knock-out mice gives r'},\n",
      "    {   'answer': 'antioxidant',\n",
      "        'context': 'ssion of peroxiredoxin 2 (PRDX2), mapped at 13q12. '\n",
      "                   'Peroxiredoxins are antioxidant enzymes involved in protein '\n",
      "                   'and lipid protection against oxidative i'},\n",
      "    {   'answer': 'antioxidant',\n",
      "        'context': 'Peroxiredoxin 2 (Prx2) is an antioxidant enzyme that uses '\n",
      "                   'cysteine residues to decompose peroxides. Prx2 is the '\n",
      "                   'third most abundant protein in erythro'},\n",
      "    {   'answer': 'antioxidant',\n",
      "        'context': 'ng H(2)O(2) noncatalytically. Although it does not act as '\n",
      "                   'a classical antioxidant enzyme, its high concentration and '\n",
      "                   'substrate sensitivity enable it t'},\n",
      "    {   'answer': 'calpromotin',\n",
      "        'context': 'ytic anemia associated with Heinz body formation. Prx2, '\n",
      "                   'also known as calpromotin, regulates ion transport by '\n",
      "                   'associating with the membrane and activa'}]\n"
     ]
    }
   ],
   "source": [
    "print_answers(prediction, details=\"minimum\")"
   ]
  },
  {
   "cell_type": "markdown",
   "id": "12c54a5b-397d-4c87-b258-d25ef9e1ac8d",
   "metadata": {},
   "source": [
    "The first answer is correct!"
   ]
  },
  {
   "cell_type": "code",
   "execution_count": null,
   "id": "2afd872a-64b5-426b-b195-2b18835a8e3c",
   "metadata": {},
   "outputs": [],
   "source": []
  },
  {
   "cell_type": "code",
   "execution_count": null,
   "id": "7623e960-24c3-4f83-a704-2c0b73e65b49",
   "metadata": {},
   "outputs": [],
   "source": []
  }
 ],
 "metadata": {
  "kernelspec": {
   "display_name": "Python 3 (ipykernel)",
   "language": "python",
   "name": "python3"
  },
  "language_info": {
   "codemirror_mode": {
    "name": "ipython",
    "version": 3
   },
   "file_extension": ".py",
   "mimetype": "text/x-python",
   "name": "python",
   "nbconvert_exporter": "python",
   "pygments_lexer": "ipython3",
   "version": "3.8.13"
  }
 },
 "nbformat": 4,
 "nbformat_minor": 5
}
