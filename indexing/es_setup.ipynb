{
 "cells": [
  {
   "cell_type": "code",
   "execution_count": 2,
   "id": "0ff2764f-d3d7-4a41-baa7-ac5d94f6e4ba",
   "metadata": {},
   "outputs": [],
   "source": [
    "import requests"
   ]
  },
  {
   "cell_type": "code",
   "execution_count": 5,
   "id": "e4fdb577-b8b5-4bc3-98d2-494f01ef57fa",
   "metadata": {},
   "outputs": [
    {
     "data": {
      "text/plain": [
       "{'cluster_name': 'docker-cluster',\n",
       " 'status': 'green',\n",
       " 'timed_out': False,\n",
       " 'number_of_nodes': 1,\n",
       " 'number_of_data_nodes': 1,\n",
       " 'active_primary_shards': 8,\n",
       " 'active_shards': 8,\n",
       " 'relocating_shards': 0,\n",
       " 'initializing_shards': 0,\n",
       " 'unassigned_shards': 0,\n",
       " 'delayed_unassigned_shards': 0,\n",
       " 'number_of_pending_tasks': 0,\n",
       " 'number_of_in_flight_fetch': 0,\n",
       " 'task_max_waiting_in_queue_millis': 0,\n",
       " 'active_shards_percent_as_number': 100.0}"
      ]
     },
     "execution_count": 5,
     "metadata": {},
     "output_type": "execute_result"
    }
   ],
   "source": [
    "requests.get('http://44.211.250.218:9200/_cluster/health').json()"
   ]
  },
  {
   "cell_type": "code",
   "execution_count": 6,
   "id": "ada44921-6874-4796-b00d-7360d45b1a41",
   "metadata": {},
   "outputs": [
    {
     "name": "stdout",
     "output_type": "stream",
     "text": [
      "green open .kibana-event-log-7.9.3-000001 f5jU5wfpS-KyEvM1nsPAXQ 1 0     1  0   5.4kb   5.4kb\n",
      "green open .apm-custom-link               FOsICs_hTFK4AKaAOJS_DQ 1 0     0  0    208b    208b\n",
      "green open .kibana_task_manager_1         rLSBhuzXQamyNo__ZFGV9Q 1 0     6 18  88.5kb  88.5kb\n",
      "green open .apm-agent-configuration       9nOb5QYJQ-2bNeveaznndw 1 0     0  0    208b    208b\n",
      "green open kibana_sample_data_logs        sMYzTnLvR9Cgtc3U7aL7bw 1 0 14074  0  11.3mb  11.3mb\n",
      "green open kibana_sample_data_flights     yVh_xOEATFWpjoxMbVjHBA 1 0  1000  0 514.1kb 514.1kb\n",
      "green open .kibana_1                      uopwB1d_RrCAqkxLaTE6dg 1 0     9  0  10.4mb  10.4mb\n",
      "\n"
     ]
    }
   ],
   "source": [
    "print(requests.get('http://44.211.250.218:9200/_cat/indices').text)"
   ]
  },
  {
   "cell_type": "markdown",
   "id": "1a7174fc-f2ba-4143-8597-5a16b6585c89",
   "metadata": {},
   "source": [
    "### Initialize ElasticsearchDocumentStore"
   ]
  },
  {
   "cell_type": "code",
   "execution_count": 8,
   "id": "9bea897e-3314-43c1-9065-5bc310cbc3d6",
   "metadata": {},
   "outputs": [
    {
     "name": "stderr",
     "output_type": "stream",
     "text": [
      "/home/ec2-user/anaconda3/envs/dev/lib/python3.8/site-packages/tqdm/auto.py:22: TqdmWarning: IProgress not found. Please update jupyter and ipywidgets. See https://ipywidgets.readthedocs.io/en/stable/user_install.html\n",
      "  from .autonotebook import tqdm as notebook_tqdm\n"
     ]
    }
   ],
   "source": [
    "from haystack.document_stores import ElasticsearchDocumentStore"
   ]
  },
  {
   "cell_type": "code",
   "execution_count": 9,
   "id": "b2070a92-3c1c-4c24-a6af-727597561c4c",
   "metadata": {},
   "outputs": [],
   "source": [
    "doc_store = ElasticsearchDocumentStore(\n",
    "    host='44.211.250.218',\n",
    "    username='',\n",
    "    password='',\n",
    "    index='bioasq'\n",
    ")"
   ]
  },
  {
   "cell_type": "markdown",
   "id": "6299a70f-a898-4f02-8265-bdc09f41a1d6",
   "metadata": {},
   "source": [
    "### Load documents from S3"
   ]
  },
  {
   "cell_type": "code",
   "execution_count": 10,
   "id": "bba11cab-dd02-4795-a5f8-37cd6ba08f8d",
   "metadata": {},
   "outputs": [],
   "source": [
    "import boto3\n",
    "import json"
   ]
  },
  {
   "cell_type": "code",
   "execution_count": 11,
   "id": "1e67c6cd-0261-4a77-be7f-d4a7ec353ad5",
   "metadata": {},
   "outputs": [],
   "source": [
    "s3 = boto3.resource('s3')"
   ]
  },
  {
   "cell_type": "code",
   "execution_count": 12,
   "id": "d7754730-5fe2-4d40-b71b-7ae952deba3d",
   "metadata": {},
   "outputs": [],
   "source": [
    "bucket = 'domain-qa-system'\n",
    "key = 'elasticsearch/ingestion/bioasq/bio_v1.json'\n",
    "obj = s3.Object(bucket, key)"
   ]
  },
  {
   "cell_type": "code",
   "execution_count": 13,
   "id": "841b87e9-11a2-483e-88aa-44a1a7a1a199",
   "metadata": {},
   "outputs": [],
   "source": [
    "docs = json.load(obj.get()['Body']) "
   ]
  },
  {
   "cell_type": "markdown",
   "id": "1373fab3-0475-4d2f-8783-c0dfb5e2dad1",
   "metadata": {},
   "source": [
    "### Write documents to ES"
   ]
  },
  {
   "cell_type": "code",
   "execution_count": null,
   "id": "972d7042-570a-496f-ba6f-068ab9fe40e6",
   "metadata": {},
   "outputs": [],
   "source": [
    "doc_store.delete_all_documents()"
   ]
  },
  {
   "cell_type": "code",
   "execution_count": 14,
   "id": "ae49ca1f-8572-4857-bff4-8ed556b7468c",
   "metadata": {},
   "outputs": [],
   "source": [
    "doc_store.write_documents(docs)"
   ]
  },
  {
   "cell_type": "code",
   "execution_count": 15,
   "id": "a32741e4-eac8-4049-8eff-6687090c72bb",
   "metadata": {},
   "outputs": [
    {
     "data": {
      "text/plain": [
       "{'count': 1490,\n",
       " '_shards': {'total': 1, 'successful': 1, 'skipped': 0, 'failed': 0}}"
      ]
     },
     "execution_count": 15,
     "metadata": {},
     "output_type": "execute_result"
    }
   ],
   "source": [
    "requests.get('http://44.211.250.218:9200/bioasq/_count').json()"
   ]
  },
  {
   "cell_type": "code",
   "execution_count": null,
   "id": "b70eed99-339c-4f34-ad1a-fc1b3e5a600d",
   "metadata": {},
   "outputs": [],
   "source": []
  }
 ],
 "metadata": {
  "kernelspec": {
   "display_name": "Python 3 (ipykernel)",
   "language": "python",
   "name": "python3"
  },
  "language_info": {
   "codemirror_mode": {
    "name": "ipython",
    "version": 3
   },
   "file_extension": ".py",
   "mimetype": "text/x-python",
   "name": "python",
   "nbconvert_exporter": "python",
   "pygments_lexer": "ipython3",
   "version": "3.8.13"
  }
 },
 "nbformat": 4,
 "nbformat_minor": 5
}
