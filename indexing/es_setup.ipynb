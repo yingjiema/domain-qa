{
 "cells": [
  {
   "cell_type": "code",
   "execution_count": 1,
   "id": "0ff2764f-d3d7-4a41-baa7-ac5d94f6e4ba",
   "metadata": {},
   "outputs": [],
   "source": [
    "import requests"
   ]
  },
  {
   "cell_type": "code",
   "execution_count": 2,
   "id": "59b27c6d-01b8-46dd-8d20-4afa5b1bab3e",
   "metadata": {},
   "outputs": [],
   "source": [
    "host = \"localhost\""
   ]
  },
  {
   "cell_type": "code",
   "execution_count": 3,
   "id": "e4fdb577-b8b5-4bc3-98d2-494f01ef57fa",
   "metadata": {},
   "outputs": [
    {
     "data": {
      "text/plain": [
       "{'cluster_name': 'docker-cluster',\n",
       " 'status': 'yellow',\n",
       " 'timed_out': False,\n",
       " 'number_of_nodes': 1,\n",
       " 'number_of_data_nodes': 1,\n",
       " 'active_primary_shards': 8,\n",
       " 'active_shards': 8,\n",
       " 'relocating_shards': 0,\n",
       " 'initializing_shards': 0,\n",
       " 'unassigned_shards': 2,\n",
       " 'delayed_unassigned_shards': 0,\n",
       " 'number_of_pending_tasks': 0,\n",
       " 'number_of_in_flight_fetch': 0,\n",
       " 'task_max_waiting_in_queue_millis': 0,\n",
       " 'active_shards_percent_as_number': 80.0}"
      ]
     },
     "execution_count": 3,
     "metadata": {},
     "output_type": "execute_result"
    }
   ],
   "source": [
    "requests.get(f'http://{host}:9200/_cluster/health').json()"
   ]
  },
  {
   "cell_type": "code",
   "execution_count": 4,
   "id": "ada44921-6874-4796-b00d-7360d45b1a41",
   "metadata": {},
   "outputs": [
    {
     "name": "stdout",
     "output_type": "stream",
     "text": [
      "yellow open bioasq                         wyN4IWYjRx6GZ4SjauW4Ww 1 1 1490  0  24.8mb  24.8mb\n",
      "green  open .kibana-event-log-7.9.3-000001 jEUEvzSLQgitqDIoaT86-A 1 0    6  0  32.3kb  32.3kb\n",
      "green  open .apm-custom-link               7iyymmzcSgSMzpAoDSNjdw 1 0    0  0    208b    208b\n",
      "green  open .kibana_task_manager_1         WfXRIDU7SPW_ThUCtCXhRQ 1 0    6 14 140.3kb 140.3kb\n",
      "green  open .apm-agent-configuration       opSZfOBRTW24pzv_b-7tmA 1 0    0  0    208b    208b\n",
      "yellow open label                          Sby2XbYJRISi9VgpGlpmIQ 1 1    0  0    208b    208b\n",
      "green  open .kibana_1                      k4cQ2vThSKmaVZDM5RXgbg 1 0   31 11  10.4mb  10.4mb\n",
      "\n"
     ]
    }
   ],
   "source": [
    "print(requests.get(f'http://{host}:9200/_cat/indices').text)"
   ]
  },
  {
   "cell_type": "markdown",
   "id": "1a7174fc-f2ba-4143-8597-5a16b6585c89",
   "metadata": {},
   "source": [
    "### Initialize ElasticsearchDocumentStore"
   ]
  },
  {
   "cell_type": "code",
   "execution_count": 5,
   "id": "9bea897e-3314-43c1-9065-5bc310cbc3d6",
   "metadata": {},
   "outputs": [
    {
     "name": "stderr",
     "output_type": "stream",
     "text": [
      "/home/ec2-user/anaconda3/envs/dev/lib/python3.8/site-packages/tqdm/auto.py:22: TqdmWarning: IProgress not found. Please update jupyter and ipywidgets. See https://ipywidgets.readthedocs.io/en/stable/user_install.html\n",
      "  from .autonotebook import tqdm as notebook_tqdm\n"
     ]
    }
   ],
   "source": [
    "from haystack.document_stores import ElasticsearchDocumentStore"
   ]
  },
  {
   "cell_type": "code",
   "execution_count": 6,
   "id": "b2070a92-3c1c-4c24-a6af-727597561c4c",
   "metadata": {},
   "outputs": [],
   "source": [
    "doc_store = ElasticsearchDocumentStore(\n",
    "    host=host,\n",
    "    username='',\n",
    "    password='',\n",
    "    index='bioasq'\n",
    ")"
   ]
  },
  {
   "cell_type": "markdown",
   "id": "6299a70f-a898-4f02-8265-bdc09f41a1d6",
   "metadata": {},
   "source": [
    "### Load documents from S3"
   ]
  },
  {
   "cell_type": "code",
   "execution_count": 7,
   "id": "bba11cab-dd02-4795-a5f8-37cd6ba08f8d",
   "metadata": {},
   "outputs": [],
   "source": [
    "import boto3\n",
    "import json"
   ]
  },
  {
   "cell_type": "code",
   "execution_count": 8,
   "id": "1e67c6cd-0261-4a77-be7f-d4a7ec353ad5",
   "metadata": {},
   "outputs": [],
   "source": [
    "s3 = boto3.resource('s3')"
   ]
  },
  {
   "cell_type": "code",
   "execution_count": 9,
   "id": "d7754730-5fe2-4d40-b71b-7ae952deba3d",
   "metadata": {},
   "outputs": [],
   "source": [
    "bucket = 'domain-qa-system'\n",
    "key = 'elasticsearch/ingestion/bioasq/bio_v1.json'\n",
    "obj = s3.Object(bucket, key)"
   ]
  },
  {
   "cell_type": "code",
   "execution_count": 10,
   "id": "841b87e9-11a2-483e-88aa-44a1a7a1a199",
   "metadata": {},
   "outputs": [],
   "source": [
    "docs = json.load(obj.get()['Body']) "
   ]
  },
  {
   "cell_type": "markdown",
   "id": "1373fab3-0475-4d2f-8783-c0dfb5e2dad1",
   "metadata": {},
   "source": [
    "### Write documents to ES"
   ]
  },
  {
   "cell_type": "code",
   "execution_count": null,
   "id": "972d7042-570a-496f-ba6f-068ab9fe40e6",
   "metadata": {},
   "outputs": [],
   "source": [
    "doc_store.delete_all_documents()"
   ]
  },
  {
   "cell_type": "code",
   "execution_count": 11,
   "id": "ae49ca1f-8572-4857-bff4-8ed556b7468c",
   "metadata": {},
   "outputs": [],
   "source": [
    "doc_store.write_documents(docs)"
   ]
  },
  {
   "cell_type": "code",
   "execution_count": 12,
   "id": "a32741e4-eac8-4049-8eff-6687090c72bb",
   "metadata": {},
   "outputs": [
    {
     "data": {
      "text/plain": [
       "{'count': 1490,\n",
       " '_shards': {'total': 1, 'successful': 1, 'skipped': 0, 'failed': 0}}"
      ]
     },
     "execution_count": 12,
     "metadata": {},
     "output_type": "execute_result"
    }
   ],
   "source": [
    "requests.get(f'http://{host}:9200/bioasq/_count').json()"
   ]
  },
  {
   "cell_type": "code",
   "execution_count": null,
   "id": "b70eed99-339c-4f34-ad1a-fc1b3e5a600d",
   "metadata": {},
   "outputs": [],
   "source": []
  }
 ],
 "metadata": {
  "kernelspec": {
   "display_name": "Python 3 (ipykernel)",
   "language": "python",
   "name": "python3"
  },
  "language_info": {
   "codemirror_mode": {
    "name": "ipython",
    "version": 3
   },
   "file_extension": ".py",
   "mimetype": "text/x-python",
   "name": "python",
   "nbconvert_exporter": "python",
   "pygments_lexer": "ipython3",
   "version": "3.8.13"
  }
 },
 "nbformat": 4,
 "nbformat_minor": 5
}
