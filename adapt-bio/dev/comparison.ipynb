{
 "cells": [
  {
   "cell_type": "code",
   "execution_count": 8,
   "id": "868de30c-2ae2-43ac-baa4-83876f330479",
   "metadata": {},
   "outputs": [],
   "source": [
    "from haystack.document_stores import ElasticsearchDocumentStore\n",
    "from haystack.nodes import EmbeddingRetriever\n",
    "from haystack.nodes import FARMReader\n",
    "from haystack.pipelines import ExtractiveQAPipeline\n",
    "from haystack.utils import print_answers"
   ]
  },
  {
   "cell_type": "code",
   "execution_count": 4,
   "id": "4141c303-fa71-4ef3-bfe5-d67282476faa",
   "metadata": {},
   "outputs": [],
   "source": [
    "class QAPipeline(object):\n",
    "    def __init__(self):\n",
    "        self.model = \"deepset/minilm-uncased-squad2\"\n",
    "\n",
    "    def create_pipeline(self, index, embedding_model):\n",
    "        document_store = ElasticsearchDocumentStore(\n",
    "            host='44.212.62.175',\n",
    "            port='9200',\n",
    "            username='',\n",
    "            password='',\n",
    "            index=index,\n",
    "            similarity=\"cosine\",\n",
    "            embedding_dim=768\n",
    "        )\n",
    "\n",
    "        retriever = EmbeddingRetriever(\n",
    "            document_store=document_store,\n",
    "            embedding_model=embedding_model,\n",
    "        )\n",
    "        # document_store.update_embeddings(retriever)\n",
    "        reader = FARMReader(model_name_or_path=self.model, use_gpu=True)\n",
    "        pipe = ExtractiveQAPipeline(reader, retriever)\n",
    "        self.pipeline = pipe\n",
    "\n",
    "    def predict(self, query):\n",
    "        prediction = self.pipeline.run(\n",
    "            query=query, \n",
    "            params={\"Retriever\": {\"top_k\": 20}, \"Reader\": {\"top_k\": 5}}\n",
    "        )\n",
    "        return prediction"
   ]
  },
  {
   "cell_type": "markdown",
   "id": "ddb041c6-5a52-42b4-a1eb-9c43cc99157c",
   "metadata": {},
   "source": [
    "### Pretrained retriever"
   ]
  },
  {
   "cell_type": "code",
   "execution_count": 15,
   "id": "d1f9ecee-7732-4b3e-b4bf-2ccdcf84a0b7",
   "metadata": {},
   "outputs": [],
   "source": [
    "pipeline = QAPipeline()\n",
    "pipeline.create_pipeline('bioasq-pretrained', \"sentence-transformers/msmarco-distilbert-base-tas-b\")"
   ]
  },
  {
   "cell_type": "code",
   "execution_count": 16,
   "id": "f53af981-15c0-403a-8e44-ab3aa2fff1a0",
   "metadata": {},
   "outputs": [
    {
     "name": "stderr",
     "output_type": "stream",
     "text": [
      "Batches: 100%|███████████████████████████████████████████████████████████████████████████████████████████████████████████████████████████████████████████████████████████████████████████████| 1/1 [00:00<00:00, 107.94it/s]\n",
      "Inferencing Samples: 100%|██████████████████████████████████████████████████████████████████████████████████████████████████████████████████████████████████████████████████████████████| 1/1 [00:00<00:00, 10.80 Batches/s]\n"
     ]
    }
   ],
   "source": [
    "prediction = pipeline.predict(\"Which drug is benserazide usually co-administered with?\")"
   ]
  },
  {
   "cell_type": "code",
   "execution_count": 17,
   "id": "cfeb3ed8-fc03-48f2-9235-6ef743a3a75b",
   "metadata": {},
   "outputs": [
    {
     "name": "stdout",
     "output_type": "stream",
     "text": [
      "\n",
      "Query: Which drug is benserazide usually co-administered with?\n",
      "Answers:\n",
      "[   {   'answer': 'benzodiazepines',\n",
      "        'context': 'verse sedation caused by intoxication with benzodiazepines '\n",
      "                   'alone or benzodiazepines in combination with other agents, '\n",
      "                   'but it should not be used when c'},\n",
      "    {   'answer': 'carbamazepine',\n",
      "        'context': 'using this agent in patients who have co-ingested chloral '\n",
      "                   'hydrate to carbamazepine or whose ECG shows abnormalities '\n",
      "                   'typical to those seen after overdo'},\n",
      "    {   'answer': 'NNRTI in combination with two nucleoside analogs',\n",
      "        'context': 'ine antiretroviral therapies typically include one NNRTI '\n",
      "                   'in combination with two nucleoside analogs. In 2008, the '\n",
      "                   'next-generation NNRTI etravirine was'},\n",
      "    {   'answer': 'DOPA decarboxylase inhibitor, abolished the antinociceptive '\n",
      "                  'effect of L-DOPA',\n",
      "        'context': 'inistration of benserazide (i.t.), a DOPA decarboxylase '\n",
      "                   'inhibitor, abolished the antinociceptive effect of L-DOPA. '\n",
      "                   'The L-DOPA-induced antinociception '},\n",
      "    {   'answer': 'flavopiridol',\n",
      "        'context': 'I dose-escalation study, imatinib was administered orally '\n",
      "                   'daily, and flavopiridol by 1\\xa0h intravenous infusion '\n",
      "                   'weekly for 3\\xa0weeks every 4\\xa0weeks. Adults'}]\n"
     ]
    }
   ],
   "source": [
    "print_answers(prediction, details=\"minimum\")"
   ]
  },
  {
   "cell_type": "markdown",
   "id": "42271635-0bc7-45a7-a447-17aee1a45101",
   "metadata": {},
   "source": [
    "### Adapted retriever"
   ]
  },
  {
   "cell_type": "code",
   "execution_count": 10,
   "id": "d3578a1a-4f94-4bcc-b73c-d2e0c31c5478",
   "metadata": {},
   "outputs": [],
   "source": [
    "pipeline = QAPipeline()\n",
    "pipeline.create_pipeline('bioasq-retriever-adpated', \"sentence-transformers/msmarco-distilbert-base-tas-b\")"
   ]
  },
  {
   "cell_type": "code",
   "execution_count": 13,
   "id": "42229afe-b4ec-4a6f-ad65-e19e892a0f54",
   "metadata": {},
   "outputs": [
    {
     "name": "stderr",
     "output_type": "stream",
     "text": [
      "Batches: 100%|███████████████████████████████████████████████████████████████████████████████████████████████████████████████████████████████████████████████████████████████████████████████| 1/1 [00:00<00:00, 136.47it/s]\n",
      "Inferencing Samples: 100%|██████████████████████████████████████████████████████████████████████████████████████████████████████████████████████████████████████████████████████████████| 1/1 [00:00<00:00,  7.22 Batches/s]\n"
     ]
    }
   ],
   "source": [
    "prediction = pipeline.predict(\"Which drug is benserazide usually co-administered with?\")"
   ]
  },
  {
   "cell_type": "code",
   "execution_count": 14,
   "id": "aa5908fe-4871-4c4e-8dd4-3c5de8f9bd44",
   "metadata": {},
   "outputs": [
    {
     "name": "stdout",
     "output_type": "stream",
     "text": [
      "\n",
      "Query: Which drug is benserazide usually co-administered with?\n",
      "Answers:\n",
      "[   {   'answer': 'PDI',\n",
      "        'context': ' indicating that there was induction of ALAAD by the '\n",
      "                   'co-administration of PDI. Despite this induction of ALAAD, '\n",
      "                   'in groups 3 and 4, with half the daily'},\n",
      "    {   'answer': 'L-DOPA',\n",
      "        'context': 'tagonists (0.01, 0.1, 1.0 mg/kg each; i.p.), or vehicle 30 '\n",
      "                   'min prior to L-DOPA (6 mg/kg; i.p.)+Benserazide (15 mg/kg; '\n",
      "                   'i.p.). SCH23390 (0.1 and 1.0 mg/'},\n",
      "    {   'answer': 'DOPA decarboxylase inhibitor, abolished the antinociceptive '\n",
      "                  'effect of L-DOPA',\n",
      "        'context': 'inistration of benserazide (i.t.), a DOPA decarboxylase '\n",
      "                   'inhibitor, abolished the antinociceptive effect of L-DOPA. '\n",
      "                   'The L-DOPA-induced antinociception '},\n",
      "    {   'answer': 'placebo',\n",
      "        'context': ', double-blind study randomized patients to receive either '\n",
      "                   'tiagabine or placebo. Tiagabine (administered in divided '\n",
      "                   'doses) was initiated at 4 mg/d (2 '},\n",
      "    {   'answer': 'naloxone',\n",
      "        'context': 'spected opioid overdose would have a more rapid '\n",
      "                   'therapeutic onset than naloxone given subcutaneously '\n",
      "                   '(s.q.). A prospective, sequential, observational '}]\n"
     ]
    }
   ],
   "source": [
    "print_answers(prediction, details=\"minimum\")"
   ]
  },
  {
   "cell_type": "code",
   "execution_count": null,
   "id": "66c83fac-9a55-443b-a2de-bfc3151fc730",
   "metadata": {},
   "outputs": [],
   "source": []
  }
 ],
 "metadata": {
  "kernelspec": {
   "display_name": "Python 3 (ipykernel)",
   "language": "python",
   "name": "python3"
  },
  "language_info": {
   "codemirror_mode": {
    "name": "ipython",
    "version": 3
   },
   "file_extension": ".py",
   "mimetype": "text/x-python",
   "name": "python",
   "nbconvert_exporter": "python",
   "pygments_lexer": "ipython3",
   "version": "3.8.13"
  }
 },
 "nbformat": 4,
 "nbformat_minor": 5
}
