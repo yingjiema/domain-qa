{
 "cells": [
  {
   "cell_type": "code",
   "execution_count": 2,
   "id": "0770c19d-7dda-4a93-91c2-279e387acccd",
   "metadata": {},
   "outputs": [
    {
     "name": "stdout",
     "output_type": "stream",
     "text": [
      "Fri Oct 28 22:55:03 2022       \n",
      "+-----------------------------------------------------------------------------+\n",
      "| NVIDIA-SMI 510.73.08    Driver Version: 510.73.08    CUDA Version: 11.6     |\n",
      "|-------------------------------+----------------------+----------------------+\n",
      "| GPU  Name        Persistence-M| Bus-Id        Disp.A | Volatile Uncorr. ECC |\n",
      "| Fan  Temp  Perf  Pwr:Usage/Cap|         Memory-Usage | GPU-Util  Compute M. |\n",
      "|                               |                      |               MIG M. |\n",
      "|===============================+======================+======================|\n",
      "|   0  Tesla V100-SXM2...  On   | 00000000:00:1E.0 Off |                    0 |\n",
      "| N/A   27C    P0    23W / 300W |      0MiB / 16384MiB |      0%      Default |\n",
      "|                               |                      |                  N/A |\n",
      "+-------------------------------+----------------------+----------------------+\n",
      "                                                                               \n",
      "+-----------------------------------------------------------------------------+\n",
      "| Processes:                                                                  |\n",
      "|  GPU   GI   CI        PID   Type   Process name                  GPU Memory |\n",
      "|        ID   ID                                                   Usage      |\n",
      "|=============================================================================|\n",
      "|  No running processes found                                                 |\n",
      "+-----------------------------------------------------------------------------+\n"
     ]
    }
   ],
   "source": [
    "!nvidia-smi"
   ]
  },
  {
   "cell_type": "code",
   "execution_count": 1,
   "id": "cf7797aa-a35b-461c-bb8c-a89274c33c4f",
   "metadata": {},
   "outputs": [],
   "source": [
    "import mlflow\n",
    "import os"
   ]
  },
  {
   "cell_type": "code",
   "execution_count": 2,
   "id": "2af68e8b-6bc0-4dba-ae44-f0099302f711",
   "metadata": {},
   "outputs": [
    {
     "name": "stdout",
     "output_type": "stream",
     "text": [
      "ELASTICSEARCH_HOST host does not configured\n"
     ]
    }
   ],
   "source": [
    "import os\n",
    "if 'ELASTICSEARCH_HOST' in os.environ:\n",
    "    host = os.environ.get(['ELASTICSEARCH_HOST'])\n",
    "    print(host)\n",
    "else: \n",
    "    print(\"ELASTICSEARCH_HOST host does not configured\")"
   ]
  },
  {
   "cell_type": "code",
   "execution_count": null,
   "id": "6e525d3f-38d3-487b-be31-520c22ffe09f",
   "metadata": {},
   "outputs": [],
   "source": [
    "host = '3.93.144.226'"
   ]
  },
  {
   "cell_type": "code",
   "execution_count": 1,
   "id": "3f05996a",
   "metadata": {},
   "outputs": [
    {
     "name": "stderr",
     "output_type": "stream",
     "text": [
      "/opt/conda/envs/dev/lib/python3.8/site-packages/tqdm/auto.py:22: TqdmWarning: IProgress not found. Please update jupyter and ipywidgets. See https://ipywidgets.readthedocs.io/en/stable/user_install.html\n",
      "  from .autonotebook import tqdm as notebook_tqdm\n",
      "/opt/conda/envs/dev/lib/python3.8/site-packages/espnet2/gan_tts/vits/vits.py:43: DeprecationWarning: distutils Version classes are deprecated. Use packaging.version instead.\n",
      "  if LooseVersion(torch.__version__) >= LooseVersion(\"1.6.0\"):\n",
      "/opt/conda/envs/dev/lib/python3.8/site-packages/pydub/utils.py:170: RuntimeWarning: Couldn't find ffmpeg or avconv - defaulting to ffmpeg, but may not work\n",
      "  warn(\"Couldn't find ffmpeg or avconv - defaulting to ffmpeg, but may not work\", RuntimeWarning)\n"
     ]
    }
   ],
   "source": [
    "from haystack.document_stores import ElasticsearchDocumentStore\n",
    "from haystack.nodes.retriever import EmbeddingRetriever\n",
    "from haystack.document_stores import FAISSDocumentStore\n",
    "from haystack.nodes.question_generator import QuestionGenerator\n",
    "from haystack.nodes.label_generator import PseudoLabelGenerator\n",
    "from haystack.pipelines import ExtractiveQAPipeline"
   ]
  },
  {
   "cell_type": "code",
   "execution_count": 2,
   "id": "bd4d8a06-b084-40a7-a18b-2989437fac0f",
   "metadata": {
    "tags": []
   },
   "outputs": [],
   "source": [
    "from sentence_transformers import SentenceTransformer, util\n",
    "from transformers import AutoTokenizer, AutoModelForSeq2SeqLM\n",
    "from datasets import load_dataset"
   ]
  },
  {
   "cell_type": "code",
   "execution_count": null,
   "id": "ded78e6e-c75d-43cf-aaba-bdac80c95093",
   "metadata": {},
   "outputs": [],
   "source": [
    "experiment_name = \"domain-adaption\"  # create a new experiment (do not replace)\n",
    "s3_bucket = \"s3://domain-qa-system/mlruns\"  # replace this value\n",
    "mllfow.create_experiment(experiment_name, s3_bucket)\n",
    "mlflow.set_experiment(experiment_name)"
   ]
  },
  {
   "cell_type": "code",
   "execution_count": null,
   "id": "fa73acbb-74cf-4dd7-9d07-313d8acb8067",
   "metadata": {},
   "outputs": [],
   "source": [
    "mlflow.start_run()"
   ]
  },
  {
   "cell_type": "code",
   "execution_count": null,
   "id": "57ee3eee-a5ae-4159-876d-a0d39ca53a66",
   "metadata": {},
   "outputs": [],
   "source": [
    "index = 'bioasq'\n",
    "similarity = \"cosine\"\n",
    "embedding_dim = 768\n",
    "\n",
    "mlflow.log_params({\n",
    "    'es_index': index,\n",
    "    'es_similarity': similarity,\n",
    "    'es_embedding_dim': embedding_dim\n",
    "})"
   ]
  },
  {
   "cell_type": "code",
   "execution_count": 6,
   "id": "93bee5e5-393a-49a1-b490-0283702bc35e",
   "metadata": {},
   "outputs": [],
   "source": [
    "document_store = ElasticsearchDocumentStore(\n",
    "    host=host,\n",
    "    username='',\n",
    "    password='',\n",
    "    index=index,\n",
    "    similarity=similarity,\n",
    "    embedding_dim=embedding_dim\n",
    ")"
   ]
  },
  {
   "cell_type": "code",
   "execution_count": null,
   "id": "ef19d147-0e64-43ee-bc17-f2f572d02868",
   "metadata": {},
   "outputs": [],
   "source": [
    "\n",
    "mlflow.log_params({\n",
    "    'es_index': index,\n",
    "    'es_similarity': similarity,\n",
    "    'es_embedding_dim': embedding_dim\n",
    "})\n",
    "\n",
    "retriever = EmbeddingRetriever(\n",
    "    document_store=document_store, \n",
    "    embedding_model=\"sentence-transformers/msmarco-distilbert-base-tas-b\", \n",
    "    model_format=\"sentence_transformers\",\n",
    "    max_seq_len=max_seq_length,\n",
    "    progress_bar=False\n",
    ")"
   ]
  },
  {
   "cell_type": "code",
   "execution_count": null,
   "id": "1663b31c-8d80-4358-b0a3-4b859dc34746",
   "metadata": {},
   "outputs": [],
   "source": []
  },
  {
   "cell_type": "code",
   "execution_count": null,
   "id": "8dfc0826-f71a-4248-9bf8-34c671562ecc",
   "metadata": {},
   "outputs": [],
   "source": []
  },
  {
   "cell_type": "code",
   "execution_count": 3,
   "id": "a38ce462-4573-4a2e-a66c-83e1a66981a5",
   "metadata": {},
   "outputs": [],
   "source": [
    "# We load the TAS-B model, a state-of-the-art model trained on MS MARCO\n",
    "max_seq_length = 200\n",
    "model_name = \"msmarco-distilbert-base-tas-b\"\n",
    "\n",
    "org_model = SentenceTransformer(model_name)\n",
    "org_model.max_seq_length = max_seq_length"
   ]
  },
  {
   "cell_type": "markdown",
   "id": "5fd51983-56c4-439e-8e9b-9d39f92047d5",
   "metadata": {},
   "source": [
    "For retriever adaption, we don't need to specify the query and documents\n",
    "- query: given by user\n",
    "- documents: first ingested into ElasticSearch, then retrived by adapted retriver\n",
    "- QA: ExtractiveQAPipeline"
   ]
  },
  {
   "cell_type": "code",
   "execution_count": 4,
   "id": "4a6c67ff-be2a-4f6d-bb3e-25fa6910bfc4",
   "metadata": {},
   "outputs": [
    {
     "name": "stdout",
     "output_type": "stream",
     "text": [
      "Original Model\n",
      "Query: How is COVID-19 transmitted\n",
      "94.84\tEbola is transmitted via direct contact with blood\n",
      "92.87\tHIV is transmitted via sex or sharing needles\n",
      "92.31\tCorona is transmitted via the air\n",
      "91.54\tPolio is transmitted via contaminated water or food\n"
     ]
    }
   ],
   "source": [
    "# We define a simple query and some documents how diseases are transmitted\n",
    "# As TAS-B was trained on rather out-dated data (2018 and older), it has now idea about COVID-19\n",
    "# So in the below example, it fails to recognize the relationship between COVID-19 and Corona\n",
    "\n",
    "def show_examples(model):\n",
    "    query = \"How is COVID-19 transmitted\"\n",
    "    docs = [\n",
    "        \"Corona is transmitted via the air\",\n",
    "        \"Ebola is transmitted via direct contact with blood\",\n",
    "        \"HIV is transmitted via sex or sharing needles\",\n",
    "        \"Polio is transmitted via contaminated water or food\"\n",
    "    ]\n",
    "\n",
    "    query_emb = model.encode(query)\n",
    "    docs_emb = model.encode(docs)\n",
    "    scores = util.dot_score(query_emb, docs_emb)[0]\n",
    "    doc_scores = sorted(zip(docs, scores), key=lambda x: x[1], reverse=True)\n",
    "\n",
    "    print(\"Query:\", query)\n",
    "    for doc, score in doc_scores:\n",
    "        #print(doc, score)\n",
    "        print(f\"{score:0.02f}\\t{doc}\")\n",
    "        \n",
    "        \n",
    "print(\"Original Model\")\n",
    "show_examples(org_model)"
   ]
  },
  {
   "cell_type": "code",
   "execution_count": 5,
   "id": "46dc88a2-3ff1-42a5-871e-cf86ebee2d5e",
   "metadata": {},
   "outputs": [
    {
     "name": "stderr",
     "output_type": "stream",
     "text": [
      "WARNING:datasets.builder:Using custom data configuration nreimers--trec-covid-b811e4e8b84d0dc0\n",
      "WARNING:datasets.builder:Found cached dataset json (/home/ec2-user/.cache/huggingface/datasets/nreimers___json/nreimers--trec-covid-b811e4e8b84d0dc0/0.0.0/e6070c77f18f01a5ad4551a8b7edfba20b8438b7cad4d94e6ad9378022ce4aab)\n"
     ]
    },
    {
     "name": "stdout",
     "output_type": "stream",
     "text": [
      "Len Corpus: 100\n"
     ]
    }
   ],
   "source": [
    "dataset = load_dataset(\"nreimers/trec-covid\", split=\"train\")\n",
    "num_documents = 100\n",
    "corpus = []\n",
    "for row in dataset:\n",
    "    if len(row[\"title\"]) > 20 and len(row[\"text\"]) > 100:\n",
    "        text = row[\"title\"] + \" \" + row[\"text\"]\n",
    "\n",
    "        text_lower = text.lower()\n",
    "\n",
    "        # The dataset also contains many papers on other diseases. To make the training in this demo\n",
    "        # more efficient, we focus on papers that talk about COVID.\n",
    "        if \"covid\" in text_lower or \"corona\" in text_lower or \"sars-cov-2\" in text_lower:\n",
    "            corpus.append(text)\n",
    "\n",
    "        if len(corpus) >= num_documents:\n",
    "            break\n",
    "\n",
    "print(\"Len Corpus:\", len(corpus))"
   ]
  },
  {
   "cell_type": "code",
   "execution_count": 7,
   "id": "382b6cfb-15d8-4f65-9985-b522ba204a20",
   "metadata": {},
   "outputs": [
    {
     "name": "stderr",
     "output_type": "stream",
     "text": [
      "Writing Documents: 10000it [00:00, 20979.69it/s]                                                                                                                                                                            \n"
     ]
    }
   ],
   "source": [
    "# document_store = FAISSDocumentStore(faiss_index_factory_str=\"Flat\", similarity=\"cosine\")\n",
    "# document_store.write_documents([{'content': t} for t in corpus])        "
   ]
  },
  {
   "cell_type": "code",
   "execution_count": 7,
   "id": "89a409c8-5ed3-4db2-9a23-16d28b25e473",
   "metadata": {},
   "outputs": [],
   "source": [
    "retriever = EmbeddingRetriever(\n",
    "    document_store=document_store, \n",
    "    embedding_model=\"sentence-transformers/msmarco-distilbert-base-tas-b\", \n",
    "    model_format=\"sentence_transformers\",\n",
    "    max_seq_len=max_seq_length,\n",
    "    progress_bar=False\n",
    ")"
   ]
  },
  {
   "cell_type": "code",
   "execution_count": 9,
   "id": "bb775a08-b0f3-4e3b-992f-65d1e3aa8f7d",
   "metadata": {},
   "outputs": [
    {
     "name": "stderr",
     "output_type": "stream",
     "text": [
      "Updating embeddings: 10000 Docs [00:02, 4769.77 Docs/s]                                                                                                                                                                     \n"
     ]
    }
   ],
   "source": [
    "document_store.write_documents([{'content': t} for t in corpus])\n",
    "document_store.update_embeddings(retriever)"
   ]
  },
  {
   "cell_type": "code",
   "execution_count": 10,
   "id": "eda389fc-6d3d-4f70-aa0c-4a9104fdacf9",
   "metadata": {},
   "outputs": [
    {
     "name": "stderr",
     "output_type": "stream",
     "text": [
      "Using sep_token, but it is not set yet.\n"
     ]
    }
   ],
   "source": [
    "question_producer = QuestionGenerator(\n",
    "    model_name_or_path=\"doc2query/msmarco-t5-base-v1\",\n",
    "    max_length=64,\n",
    "    split_length=128,\n",
    "    batch_size=32,\n",
    "    num_queries_per_doc=3,\n",
    ")"
   ]
  },
  {
   "cell_type": "code",
   "execution_count": 11,
   "id": "438221ef-34e1-43be-b661-017def72a965",
   "metadata": {},
   "outputs": [],
   "source": [
    "psg = PseudoLabelGenerator(\n",
    "    question_producer=question_producer,\n",
    "    retriever=retriever,\n",
    "    max_questions_per_document=10,\n",
    "    batch_size=32,\n",
    "    top_k=10\n",
    ")"
   ]
  },
  {
   "cell_type": "code",
   "execution_count": 12,
   "id": "b33942c0-0ef4-4b50-af17-347401e31357",
   "metadata": {},
   "outputs": [
    {
     "name": "stderr",
     "output_type": "stream",
     "text": [
      "Generating questions: 100%|███████████████████████████████████████████████████████████████████████████████████████████████████████████████████████████████████████████████████████████████| 508/508 [00:21<00:00, 23.16it/s]\n",
      "Mine negatives: 100%|███████████████████████████████████████████████████████████████████████████████████████████████████████████████████████████████████████████████████████████████████████| 23/23 [00:07<00:00,  3.08it/s]\n",
      "Score margin: 100%|█████████████████████████████████████████████████████████████████████████████████████████████████████████████████████████████████████████████████████████████████████████| 23/23 [00:03<00:00,  5.92it/s]\n"
     ]
    }
   ],
   "source": [
    "output, pipe_id = psg.run(documents=document_store.get_all_documents()) "
   ]
  },
  {
   "cell_type": "markdown",
   "id": "cca366ea-92b2-4979-aabf-9e6e9a8eeec9",
   "metadata": {},
   "source": [
    "Generate both positive and negative docs"
   ]
  },
  {
   "cell_type": "code",
   "execution_count": 13,
   "id": "326999cb-2110-4bde-8cb6-cde53737d7fe",
   "metadata": {},
   "outputs": [
    {
     "data": {
      "text/plain": [
       "{'question': 'is kawasaki disease polymorphic',\n",
       " 'pos_doc': \"Insertion/Deletion Polymorphism of Angiotensin Converting Enzyme Gene in Kawasaki Disease Polymorphism of angiotensin converting enzyme (ACE) gene is reported to be associated with ischemic heart disease, hypertrophic cardiomyopathy, and idiopathic dilated cardiomyopathy. In this study, we investigated the relationship between Kawasaki disease and insertion/deletion polymorphism of ACE gene. Fifty five Kawasaki disease patients and 43 healthy children were enrolled. ACE genotype was evaluated from each of the subjects' DNA fragments through polymerase chain reaction (PCR). Frequencies of ACE genotypes (DD, ID, II) were 12.7%, 60.0%, 27.3% in Kawasaki group, and 41.9%, 30.2%, 27.9% in control group respectively, indicating low rate of DD and high rate of ID genotype among Kawasaki patients (p<0.01). Comparing allelic (I, D) frequencies, I allele was more prevalent in Kawasaki group than in control group (57.3% vs. 43.0%, p<0.05). In Kawasaki group, both genotype and allelic frequencies were not statistically different between those with coronary dilatations and those without. ACE gene I/D polymorphism is thought to be associated with Kawasaki disease but not with the development of coronary dilatations.\",\n",
       " 'neg_doc': 'Coronavirus disease: challenges for psychiatry Coronavirus disease (COVID-19) presents two urgent health problems: the illness caused by the virus itself and the anxiety, panic and psychological problems associated with the pandemic. Both problems present substantial challenges for our patients, their families, our multidisciplinary teams and our psychiatrist colleagues. We need good psychiatry, now more than ever.',\n",
       " 'score': 16.577152}"
      ]
     },
     "execution_count": 13,
     "metadata": {},
     "output_type": "execute_result"
    }
   ],
   "source": [
    "output[\"gpl_labels\"][0]"
   ]
  },
  {
   "cell_type": "code",
   "execution_count": 15,
   "id": "ff8ace21-276d-421d-8b29-66270cda252d",
   "metadata": {},
   "outputs": [
    {
     "data": {
      "text/plain": [
       "713"
      ]
     },
     "execution_count": 15,
     "metadata": {},
     "output_type": "execute_result"
    }
   ],
   "source": [
    "len(output[\"gpl_labels\"])"
   ]
  },
  {
   "cell_type": "code",
   "execution_count": 16,
   "id": "99039a39-526e-4685-ad1e-84818c005ab8",
   "metadata": {
    "tags": []
   },
   "outputs": [
    {
     "name": "stderr",
     "output_type": "stream",
     "text": [
      "Epoch:   0%|                                                                                                                                                                                          | 0/1 [00:00<?, ?it/s]\n",
      "Iteration:   0%|                                                                                                                                                                                     | 0/44 [00:00<?, ?it/s]\u001b[A\n",
      "Iteration:   2%|███▉                                                                                                                                                                         | 1/44 [00:00<00:09,  4.60it/s]\u001b[A\n",
      "Iteration:   5%|███████▊                                                                                                                                                                     | 2/44 [00:00<00:09,  4.63it/s]\u001b[A\n",
      "Iteration:   7%|███████████▊                                                                                                                                                                 | 3/44 [00:00<00:10,  4.03it/s]\u001b[A\n",
      "Iteration:   9%|███████████████▋                                                                                                                                                             | 4/44 [00:00<00:09,  4.18it/s]\u001b[A\n",
      "Iteration:  11%|███████████████████▋                                                                                                                                                         | 5/44 [00:01<00:09,  4.28it/s]\u001b[A\n",
      "Iteration:  14%|███████████████████████▌                                                                                                                                                     | 6/44 [00:01<00:09,  4.05it/s]\u001b[A\n",
      "Iteration:  16%|███████████████████████████▌                                                                                                                                                 | 7/44 [00:01<00:08,  4.14it/s]\u001b[A\n",
      "Iteration:  18%|███████████████████████████████▍                                                                                                                                             | 8/44 [00:01<00:08,  4.20it/s]\u001b[A\n",
      "Iteration:  20%|███████████████████████████████████▍                                                                                                                                         | 9/44 [00:02<00:08,  4.25it/s]\u001b[A\n",
      "Iteration:  23%|███████████████████████████████████████                                                                                                                                     | 10/44 [00:02<00:08,  4.09it/s]\u001b[A\n",
      "Iteration:  25%|███████████████████████████████████████████                                                                                                                                 | 11/44 [00:02<00:07,  4.15it/s]\u001b[A\n",
      "Iteration:  27%|██████████████████████████████████████████████▉                                                                                                                             | 12/44 [00:02<00:07,  4.20it/s]\u001b[A\n",
      "Iteration:  30%|██████████████████████████████████████████████████▊                                                                                                                         | 13/44 [00:03<00:07,  4.25it/s]\u001b[A\n",
      "Iteration:  32%|██████████████████████████████████████████████████████▋                                                                                                                     | 14/44 [00:03<00:07,  4.28it/s]\u001b[A\n",
      "Iteration:  34%|██████████████████████████████████████████████████████████▋                                                                                                                 | 15/44 [00:03<00:06,  4.17it/s]\u001b[A\n",
      "Iteration:  36%|██████████████████████████████████████████████████████████████▌                                                                                                             | 16/44 [00:03<00:06,  4.07it/s]\u001b[A\n",
      "Iteration:  39%|██████████████████████████████████████████████████████████████████▍                                                                                                         | 17/44 [00:04<00:06,  4.11it/s]\u001b[A\n",
      "Iteration:  41%|██████████████████████████████████████████████████████████████████████▎                                                                                                     | 18/44 [00:04<00:06,  4.15it/s]\u001b[A\n",
      "Iteration:  43%|██████████████████████████████████████████████████████████████████████████▎                                                                                                 | 19/44 [00:04<00:06,  4.11it/s]\u001b[A\n",
      "Iteration:  45%|██████████████████████████████████████████████████████████████████████████████▏                                                                                             | 20/44 [00:04<00:05,  4.06it/s]\u001b[A\n",
      "Iteration:  48%|██████████████████████████████████████████████████████████████████████████████████                                                                                          | 21/44 [00:05<00:05,  4.03it/s]\u001b[A\n",
      "Iteration:  50%|██████████████████████████████████████████████████████████████████████████████████████                                                                                      | 22/44 [00:05<00:05,  4.07it/s]\u001b[A\n",
      "Iteration:  52%|█████████████████████████████████████████████████████████████████████████████████████████▉                                                                                  | 23/44 [00:05<00:05,  3.98it/s]\u001b[A\n",
      "Iteration:  55%|█████████████████████████████████████████████████████████████████████████████████████████████▊                                                                              | 24/44 [00:05<00:05,  3.92it/s]\u001b[A\n",
      "Iteration:  57%|█████████████████████████████████████████████████████████████████████████████████████████████████▋                                                                          | 25/44 [00:06<00:04,  3.96it/s]\u001b[A\n",
      "Iteration:  59%|█████████████████████████████████████████████████████████████████████████████████████████████████████▋                                                                      | 26/44 [00:06<00:04,  4.00it/s]\u001b[A\n",
      "Iteration:  61%|█████████████████████████████████████████████████████████████████████████████████████████████████████████▌                                                                  | 27/44 [00:06<00:04,  4.03it/s]\u001b[A\n",
      "Iteration:  64%|█████████████████████████████████████████████████████████████████████████████████████████████████████████████▍                                                              | 28/44 [00:06<00:03,  4.06it/s]\u001b[A\n",
      "Iteration:  66%|█████████████████████████████████████████████████████████████████████████████████████████████████████████████████▎                                                          | 29/44 [00:07<00:03,  4.09it/s]\u001b[A\n",
      "Iteration:  68%|█████████████████████████████████████████████████████████████████████████████████████████████████████████████████████▎                                                      | 30/44 [00:07<00:03,  4.02it/s]\u001b[A\n",
      "Iteration:  70%|█████████████████████████████████████████████████████████████████████████████████████████████████████████████████████████▏                                                  | 31/44 [00:07<00:03,  4.05it/s]\u001b[A\n",
      "Iteration:  73%|█████████████████████████████████████████████████████████████████████████████████████████████████████████████████████████████                                               | 32/44 [00:07<00:02,  4.08it/s]\u001b[A\n",
      "Iteration:  75%|█████████████████████████████████████████████████████████████████████████████████████████████████████████████████████████████████                                           | 33/44 [00:08<00:02,  4.11it/s]\u001b[A\n",
      "Iteration:  77%|████████████████████████████████████████████████████████████████████████████████████████████████████████████████████████████████████▉                                       | 34/44 [00:08<00:02,  4.14it/s]\u001b[A\n",
      "Iteration:  80%|████████████████████████████████████████████████████████████████████████████████████████████████████████████████████████████████████████▊                                   | 35/44 [00:08<00:02,  4.10it/s]\u001b[A\n",
      "Iteration:  82%|████████████████████████████████████████████████████████████████████████████████████████████████████████████████████████████████████████████▋                               | 36/44 [00:08<00:01,  4.07it/s]\u001b[A\n",
      "Iteration:  84%|████████████████████████████████████████████████████████████████████████████████████████████████████████████████████████████████████████████████▋                           | 37/44 [00:09<00:01,  4.10it/s]\u001b[A\n",
      "Iteration:  86%|████████████████████████████████████████████████████████████████████████████████████████████████████████████████████████████████████████████████████▌                       | 38/44 [00:09<00:01,  4.07it/s]\u001b[A\n",
      "Iteration:  89%|████████████████████████████████████████████████████████████████████████████████████████████████████████████████████████████████████████████████████████▍                   | 39/44 [00:09<00:01,  4.10it/s]\u001b[A\n",
      "Iteration:  91%|████████████████████████████████████████████████████████████████████████████████████████████████████████████████████████████████████████████████████████████▎               | 40/44 [00:09<00:00,  4.07it/s]\u001b[A\n",
      "Iteration:  93%|████████████████████████████████████████████████████████████████████████████████████████████████████████████████████████████████████████████████████████████████▎           | 41/44 [00:10<00:00,  4.10it/s]\u001b[A\n",
      "Iteration:  95%|████████████████████████████████████████████████████████████████████████████████████████████████████████████████████████████████████████████████████████████████████▏       | 42/44 [00:10<00:00,  4.04it/s]\u001b[A\n",
      "Iteration:  98%|████████████████████████████████████████████████████████████████████████████████████████████████████████████████████████████████████████████████████████████████████████    | 43/44 [00:10<00:00,  4.01it/s]\u001b[A\n",
      "Iteration: 100%|████████████████████████████████████████████████████████████████████████████████████████████████████████████████████████████████████████████████████████████████████████████| 44/44 [00:10<00:00,  4.07it/s]\u001b[A\n",
      "Epoch: 100%|██████████████████████████████████████████████████████████████████████████████████████████████████████████████████████████████████████████████████████████████████████████████████| 1/1 [00:10<00:00, 10.82s/it]\n"
     ]
    }
   ],
   "source": [
    "retriever.train(output[\"gpl_labels\"])"
   ]
  },
  {
   "cell_type": "code",
   "execution_count": 17,
   "id": "b994d874-aec4-44e9-aee7-4eb046621c13",
   "metadata": {},
   "outputs": [
    {
     "name": "stdout",
     "output_type": "stream",
     "text": [
      "Original Model\n",
      "Query: How is COVID-19 transmitted\n",
      "94.84\tEbola is transmitted via direct contact with blood\n",
      "92.87\tHIV is transmitted via sex or sharing needles\n",
      "92.31\tCorona is transmitted via the air\n",
      "91.54\tPolio is transmitted via contaminated water or food\n",
      "\n",
      "\n",
      "Adapted Model\n",
      "Query: How is COVID-19 transmitted\n",
      "89.12\tEbola is transmitted via direct contact with blood\n",
      "85.26\tHIV is transmitted via sex or sharing needles\n",
      "82.79\tCorona is transmitted via the air\n",
      "81.51\tPolio is transmitted via contaminated water or food\n"
     ]
    }
   ],
   "source": [
    "print(\"Original Model\")\n",
    "show_examples(org_model)\n",
    "\n",
    "print(\"\\n\\nAdapted Model\")\n",
    "show_examples(retriever.embedding_encoder.embedding_model)"
   ]
  },
  {
   "cell_type": "code",
   "execution_count": null,
   "id": "60d32282-2c3e-4b46-9d8c-2c5356a950c2",
   "metadata": {},
   "outputs": [],
   "source": [
    "retriever.save()"
   ]
  },
  {
   "cell_type": "code",
   "execution_count": null,
   "id": "9cde8475-7cdd-41e5-9dcf-14e704a0764e",
   "metadata": {},
   "outputs": [],
   "source": [
    "mlflow.log_artifacts()"
   ]
  },
  {
   "cell_type": "code",
   "execution_count": null,
   "id": "a822b9cb-3486-489e-95c3-5dfcd709214e",
   "metadata": {},
   "outputs": [],
   "source": [
    "mlflow.end_run()"
   ]
  }
 ],
 "metadata": {
  "kernelspec": {
   "display_name": "Python 3 (ipykernel)",
   "language": "python",
   "name": "python3"
  },
  "language_info": {
   "codemirror_mode": {
    "name": "ipython",
    "version": 3
   },
   "file_extension": ".py",
   "mimetype": "text/x-python",
   "name": "python",
   "nbconvert_exporter": "python",
   "pygments_lexer": "ipython3",
   "version": "3.8.13"
  }
 },
 "nbformat": 4,
 "nbformat_minor": 5
}
